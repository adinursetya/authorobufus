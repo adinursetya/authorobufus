{
  "nbformat": 4,
  "nbformat_minor": 0,
  "metadata": {
    "colab": {
      "provenance": [],
      "mount_file_id": "1OAUkboXyDU-N-8kzmOCpltvzYBTusN7U",
      "authorship_tag": "ABX9TyNItgFGIWZXMN5MvPpVQb3I",
      "include_colab_link": true
    },
    "kernelspec": {
      "name": "python3",
      "display_name": "Python 3"
    },
    "language_info": {
      "name": "python"
    }
  },
  "cells": [
    {
      "cell_type": "markdown",
      "metadata": {
        "id": "view-in-github",
        "colab_type": "text"
      },
      "source": [
        "<a href=\"https://colab.research.google.com/github/adinursetya/authorobufus/blob/main/evaluation.ipynb\" target=\"_parent\"><img src=\"https://colab.research.google.com/assets/colab-badge.svg\" alt=\"Open In Colab\"/></a>"
      ]
    },
    {
      "cell_type": "code",
      "source": [
        "import numpy as np\n",
        "import nltk\n",
        "import pandas as pd\n",
        "import gensim\n",
        "from nltk.tokenize import word_tokenize\n",
        "from gensim.models import FastText\n",
        "from joblib import load\n",
        "from sklearn.feature_extraction.text import CountVectorizer\n",
        "from sklearn.metrics import accuracy_score, f1_score"
      ],
      "metadata": {
        "id": "nzo7nK5cxoD7"
      },
      "execution_count": null,
      "outputs": []
    },
    {
      "cell_type": "code",
      "source": [
        "model = FastText.load_fasttext_format('/content/drive/MyDrive/Colab Notebooks/model/trained_model_id.bin')\n",
        "content_train = load('/content/drive/MyDrive/Colab Notebooks/model/content_train.sav')\n",
        "y_test = load('/content/drive/MyDrive/Colab Notebooks/model/y_test.sav')\n",
        "attribution = load('/content/drive/MyDrive/Colab Notebooks/model/authorship.sav')\n",
        "original = pd.read_csv('/content/drive/MyDrive/Colab Notebooks/Data/origin.csv')\n",
        "content_test = pd.read_csv('/content/drive/MyDrive/Colab Notebooks/Data/output_w2v.csv')\n",
        "origin = original['content']"
      ],
      "metadata": {
        "id": "ViCwDNfBSBsg"
      },
      "execution_count": null,
      "outputs": []
    },
    {
      "cell_type": "code",
      "source": [
        "content = content_test['content']\n",
        "content"
      ],
      "metadata": {
        "id": "EwEVtR6GT2nW"
      },
      "execution_count": null,
      "outputs": []
    },
    {
      "cell_type": "code",
      "source": [
        "origin"
      ],
      "metadata": {
        "id": "7VCGT5kNUb6w"
      },
      "execution_count": null,
      "outputs": []
    },
    {
      "cell_type": "code",
      "execution_count": null,
      "metadata": {
        "id": "NGZjnob9w3iQ"
      },
      "outputs": [],
      "source": [
        "def get_article_similarity(real_article, obfus_article):\n",
        "    word_similarities = []\n",
        "\n",
        "    for i in range(len(real_article)):\n",
        "        if len(real_article[i]) > 1 and len(obfus_article[i]) > 1:\n",
        "            word1 = real_article[i].lower()\n",
        "            word2 = obfus_article[i].lower()\n",
        "            similarity = 1\n",
        "\n",
        "            if word1 != word2:\n",
        "                    similarity = model.wv.similarity(word1, word2)\n",
        "\n",
        "            word_similarities.append(similarity)\n",
        "\n",
        "    average_similarity = sum(word_similarities) / len(word_similarities)\n",
        "\n",
        "    return average_similarity"
      ]
    },
    {
      "cell_type": "code",
      "source": [
        "get_article_similarity(origin,content)"
      ],
      "metadata": {
        "id": "_jUohFWFynBm"
      },
      "execution_count": null,
      "outputs": []
    },
    {
      "cell_type": "code",
      "source": [
        "vec = CountVectorizer()\n",
        "content_train = vec.fit_transform(content_train)\n",
        "content_test = vec.transform(content)"
      ],
      "metadata": {
        "id": "YuLb4daw59hV"
      },
      "execution_count": null,
      "outputs": []
    },
    {
      "cell_type": "code",
      "source": [
        "result = attribution.predict(content)\n",
        "acc = accuracy_score(y_test, result)\n",
        "f1 = f1_score( y_test, result, average='macro')"
      ],
      "metadata": {
        "id": "JEfjr0xZ6O4p"
      },
      "execution_count": null,
      "outputs": []
    },
    {
      "cell_type": "code",
      "source": [
        "model = FastText.load_fasttext_format('trained_model_id.bin')"
      ],
      "metadata": {
        "id": "BUZYMYCOxtYO"
      },
      "execution_count": null,
      "outputs": []
    },
    {
      "cell_type": "code",
      "source": [
        "original = pd.read_csv('origin.csv')\n",
        "test1 = pd.read_csv('output_w2v.csv')\n",
        "test2 = pd.read_csv('output_glv.csv')\n",
        "test3 = pd.read_csv('output_fast.csv')"
      ],
      "metadata": {
        "id": "Rk_Lu3kcyCdd"
      },
      "execution_count": null,
      "outputs": []
    },
    {
      "cell_type": "code",
      "source": [
        "test1 = pd.read_csv('/content/drive/MyDrive/Colab Notebooks/Data/output_w2v.csv')\n",
        "test1"
      ],
      "metadata": {
        "id": "V0QgIfWmySfh"
      },
      "execution_count": null,
      "outputs": []
    },
    {
      "cell_type": "code",
      "source": [
        "test2 = pd.read_csv('/content/drive/MyDrive/Colab Notebooks/Data/output_glv.csv')\n",
        "test2"
      ],
      "metadata": {
        "id": "nY8mzffNzAYS"
      },
      "execution_count": null,
      "outputs": []
    },
    {
      "cell_type": "code",
      "source": [
        "test3 = pd.read_csv('/content/drive/MyDrive/Colab Notebooks/Data/output_fast.csv')\n",
        "test3"
      ],
      "metadata": {
        "id": "l7LjB6YB1R0u"
      },
      "execution_count": null,
      "outputs": []
    },
    {
      "cell_type": "code",
      "source": [
        "origin = original['content']\n",
        "test1 = test1['content']\n",
        "test2 = test2['content']\n",
        "test3 = test3['content']"
      ],
      "metadata": {
        "id": "z0C8ZulxzIW1"
      },
      "execution_count": null,
      "outputs": []
    },
    {
      "cell_type": "code",
      "source": [
        "get_article_similarity(origin,test2)"
      ],
      "metadata": {
        "id": "6mcWVRxWy6Qs"
      },
      "execution_count": null,
      "outputs": []
    },
    {
      "cell_type": "code",
      "source": [
        "get_article_similarity(origin,test3)"
      ],
      "metadata": {
        "id": "HCicIxE9zOYW"
      },
      "execution_count": null,
      "outputs": []
    },
    {
      "cell_type": "code",
      "source": [
        "from joblib import load\n",
        "content_train = load('/content/drive/MyDrive/Colab Notebooks/model/content_train.sav')\n",
        "y_test = load('/content/drive/MyDrive/Colab Notebooks/model/y_test.sav')\n",
        "attribution = load('/content/drive/MyDrive/Colab Notebooks/model/authorship.sav')"
      ],
      "metadata": {
        "id": "4jNGqOn94919"
      },
      "execution_count": null,
      "outputs": []
    },
    {
      "cell_type": "code",
      "source": [
        "import pandas as pd\n",
        "test = pd.read_csv('/content/drive/MyDrive/Colab Notebooks/Data/output_fast.csv')\n",
        "content_test = test['content']"
      ],
      "metadata": {
        "id": "vQGD9ezd5hQt"
      },
      "execution_count": null,
      "outputs": []
    },
    {
      "cell_type": "code",
      "source": [
        "content_test"
      ],
      "metadata": {
        "id": "XvVdcGJR53Wr"
      },
      "execution_count": null,
      "outputs": []
    },
    {
      "cell_type": "code",
      "source": [
        "content_train"
      ],
      "metadata": {
        "id": "WVUGP10SVfK0"
      },
      "execution_count": null,
      "outputs": []
    },
    {
      "cell_type": "code",
      "source": [
        "vec = CountVectorizer()\n",
        "content_train = vec.fit_transform(content_train)\n",
        "content_test = vec.transform(content_test)"
      ],
      "metadata": {
        "id": "2LzAl23MVoT_"
      },
      "execution_count": null,
      "outputs": []
    },
    {
      "cell_type": "code",
      "source": [
        "result = attribution.predict(content_test)\n",
        "result"
      ],
      "metadata": {
        "id": "AEMfrrfIV2Ec"
      },
      "execution_count": null,
      "outputs": []
    },
    {
      "cell_type": "code",
      "source": [
        "y_test = np.array(y_test)\n",
        "y_test"
      ],
      "metadata": {
        "id": "Lw4ZAOdrV7WI"
      },
      "execution_count": null,
      "outputs": []
    },
    {
      "cell_type": "code",
      "source": [
        "acc = accuracy_score(y_test, result)\n",
        "acc"
      ],
      "metadata": {
        "id": "ljX_kxYX6T75"
      },
      "execution_count": null,
      "outputs": []
    },
    {
      "cell_type": "code",
      "source": [
        "f1 = f1_score( y_test, result, average='macro')\n",
        "f1"
      ],
      "metadata": {
        "id": "HHd-RreJ6YcH"
      },
      "execution_count": null,
      "outputs": []
    },
    {
      "cell_type": "code",
      "source": [
        "import pandas as pd\n",
        "test = pd.read_csv('/content/drive/MyDrive/Colab Notebooks/Data/output_fast.csv')\n",
        "content_save = test['content']"
      ],
      "metadata": {
        "id": "e9NzrWsGWRF9"
      },
      "execution_count": null,
      "outputs": []
    },
    {
      "cell_type": "code",
      "source": [
        "new = content_save\n",
        "indices = [i for i in range(len(new))]\n",
        "df_new = pd.DataFrame({'index': indices, 'content': new, 'real_author' : y_test, 'predicted_author' : result})\n",
        "#df_new.to_csv('Hasil_W2V.csv', index = False)"
      ],
      "metadata": {
        "id": "ctLV1sogWXH3"
      },
      "execution_count": null,
      "outputs": []
    },
    {
      "cell_type": "code",
      "source": [
        "df_new"
      ],
      "metadata": {
        "id": "w4PpHn-sXjYD"
      },
      "execution_count": null,
      "outputs": []
    },
    {
      "cell_type": "code",
      "source": [
        "import pandas as pd\n",
        "import seaborn as sns\n",
        "import matplotlib.pyplot as plt\n",
        "from sklearn.metrics import confusion_matrix"
      ],
      "metadata": {
        "id": "UImSB9RX88bW"
      },
      "execution_count": null,
      "outputs": []
    },
    {
      "cell_type": "code",
      "source": [
        "cm = confusion_matrix(y_test,result)\n",
        "cm"
      ],
      "metadata": {
        "id": "CwZ2HmM1-c_0"
      },
      "execution_count": null,
      "outputs": []
    },
    {
      "cell_type": "code",
      "source": [
        "import matplotlib.pyplot as plt\n",
        "from sklearn.metrics import ConfusionMatrixDisplay\n",
        "disp = ConfusionMatrixDisplay(confusion_matrix=cm)\n",
        "disp.plot()"
      ],
      "metadata": {
        "id": "o6Egg5rH_dYn",
        "colab": {
          "base_uri": "https://localhost:8080/",
          "height": 296
        },
        "outputId": "b5be2773-b26e-4790-eaea-41e191e62761"
      },
      "execution_count": null,
      "outputs": [
        {
          "output_type": "execute_result",
          "data": {
            "text/plain": [
              "<sklearn.metrics._plot.confusion_matrix.ConfusionMatrixDisplay at 0x7f47cbd92e10>"
            ]
          },
          "metadata": {},
          "execution_count": 144
        },
        {
          "output_type": "display_data",
          "data": {
            "image/png": "[encoded data removed]",
            "text/plain": [
              "<Figure size 432x288 with 2 Axes>"
            ]
          },
          "metadata": {
            "needs_background": "light"
          }
        }
      ]
    },
    {
      "cell_type": "code",
      "source": [
        "sns.heatmap(cm/200, annot=True, fmt='.2f', cmap='Blues')"
      ],
      "metadata": {
        "colab": {
          "base_uri": "https://localhost:8080/",
          "height": 282
        },
        "id": "jQzWyVkL5Mo5",
        "outputId": "77b55d25-e834-4eb5-98cd-9765ffda4bb7"
      },
      "execution_count": null,
      "outputs": [
        {
          "output_type": "execute_result",
          "data": {
            "text/plain": [
              "<matplotlib.axes._subplots.AxesSubplot at 0x7f47cbd920d0>"
            ]
          },
          "metadata": {},
          "execution_count": 145
        },
        {
          "output_type": "display_data",
          "data": {
            "image/png": "[encoded data removed]",
            "text/plain": [
              "<Figure size 432x288 with 2 Axes>"
            ]
          },
          "metadata": {
            "needs_background": "light"
          }
        }
      ]
    },
    {
      "cell_type": "code",
      "source": [
        "df = pd.DataFrame({'real': y_test, 'prediction':result})\n",
        "confusion_matrix = pd.crosstab(df['real'], df['prediction'], rownames=['Real Author'], colnames=['Predicted Author'])\n",
        "\n",
        "sns.heatmap(confusion_matrix/200, annot=True, cmap='Blues')\n",
        "plt.title('Confusion matrix of attribution model post-obfuscation using word embedding FastText')\n",
        "plt.show()"
      ],
      "metadata": {
        "colab": {
          "base_uri": "https://localhost:8080/",
          "height": 295
        },
        "id": "XvzkLR4ND_7m",
        "outputId": "b2d1103a-880e-4eb9-b16d-c391b652ded3"
      },
      "execution_count": null,
      "outputs": [
        {
          "output_type": "display_data",
          "data": {
            "image/png": "[encoded data removed]",
            "text/plain": [
              "<Figure size 432x288 with 2 Axes>"
            ]
          },
          "metadata": {
            "needs_background": "light"
          }
        }
      ]
    }
  ]
}