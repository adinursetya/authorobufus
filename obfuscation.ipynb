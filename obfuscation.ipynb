{
  "nbformat": 4,
  "nbformat_minor": 0,
  "metadata": {
    "colab": {
      "provenance": [],
      "mount_file_id": "1w8aXFQwxMf-QosZCtUiTOKfbv_lnbnGH",
      "authorship_tag": "ABX9TyMx3x2IGCVIWiYsKdqLy674",
      "include_colab_link": true
    },
    "kernelspec": {
      "name": "python3",
      "display_name": "Python 3"
    },
    "language_info": {
      "name": "python"
    }
  },
  "cells": [
    {
      "cell_type": "markdown",
      "metadata": {
        "id": "view-in-github",
        "colab_type": "text"
      },
      "source": [
        "<a href=\"https://colab.research.google.com/github/adinursetya/authorobufus/blob/main/obfuscation.ipynb\" target=\"_parent\"><img src=\"https://colab.research.google.com/assets/colab-badge.svg\" alt=\"Open In Colab\"/></a>"
      ]
    },
    {
      "cell_type": "code",
      "execution_count": null,
      "metadata": {
        "id": "UIddSfp3l8Gw"
      },
      "outputs": [],
      "source": [
        "import numpy as np\n",
        "import nltk\n",
        "import pandas as pd\n",
        "import gensim\n",
        "from nltk.tokenize import sent_tokenize, word_tokenize\n",
        "from gensim.models import Word2Vec\n",
        "from gensim.test.utils import datapath, get_tmpfile\n",
        "from gensim.models import KeyedVectors\n",
        "from gensim.scripts.glove2word2vec import glove2word2vec\n",
        "from gensim.models import FastText\n",
        "from nltk.tag import CRFTagger\n",
        "from tqdm import tqdm"
      ]
    },
    {
      "cell_type": "code",
      "source": [
        "model = FastText.load_fasttext_format('/content/drive/MyDrive/Colab Notebooks/model/trained_model_id.bin')"
      ],
      "metadata": {
        "id": "hWOnQJhUmEkn"
      },
      "execution_count": null,
      "outputs": []
    },
    {
      "cell_type": "code",
      "source": [
        "content = 'menteri koordinator bidang kemaritiman dan investasi luhut binsar pandjaitan memuji kerja palang merah indonesia yang berperan dalam melawan covid.'"
      ],
      "metadata": {
        "id": "W6-QbOtowK2p"
      },
      "execution_count": null,
      "outputs": []
    },
    {
      "cell_type": "code",
      "source": [
        "import joblib\n",
        "content = joblib.load('content_test.sav')\n",
        "content"
      ],
      "metadata": {
        "colab": {
          "base_uri": "https://localhost:8080/"
        },
        "id": "7JMmIFE3mj2x",
        "outputId": "cdd2daa2-0ddb-4030-a62f-9ee3190da943",
        "collapsed": true
      },
      "execution_count": null,
      "outputs": [
        {
          "output_type": "execute_result",
          "data": {
            "text/plain": [
              "2500    Sekretaris Jenderal  PDI-P  Hasto Kristiyanto ...\n",
              "2519    Ketua Badan Anggaran (Banggar) DPR Said Abdull...\n",
              "4974    Mendagri Tito Karnavian kembali mengingatkan a...\n",
              "574     CEO  Cyrus Network Eko Dafid Afianto mengataka...\n",
              "1898     Kejaksaan Agung memeriksa tiga orang saksi te...\n",
              "                              ...                        \n",
              "1198    Jumlah razia atau pemeriksaan yang dilakukan a...\n",
              "2394    Presiden ke-6 Republik Indonesia, Susilo Bamba...\n",
              "4810    Drummer band SID,  Jerinx , kini terpaksa beru...\n",
              "4380    Ketua  KPU  Sulawesi Selatan, Faisal Amir, dik...\n",
              "3639    Ketua Ikatan Dokter Indonesia ( IDI ) Aceh, Sa...\n",
              "Name: content, Length: 1200, dtype: object"
            ]
          },
          "metadata": {},
          "execution_count": 15
        }
      ]
    },
    {
      "cell_type": "code",
      "source": [
        "def tokenize(text):\n",
        "    word = word_tokenize(text)\n",
        "    return word"
      ],
      "metadata": {
        "id": "BzOpjq5vnVKU"
      },
      "execution_count": null,
      "outputs": []
    },
    {
      "cell_type": "code",
      "source": [
        "def pos_tag(text,ct):\n",
        "    ct = CRFTagger()\n",
        "    ct.set_model_file('all_indo_man_tag_corpus_model.crf.tagger')\n",
        "    pos = ct.tag(text)\n",
        "    return pos"
      ],
      "metadata": {
        "id": "dxfCvqSPnYXP"
      },
      "execution_count": null,
      "outputs": []
    },
    {
      "cell_type": "code",
      "source": [
        "def replace(pos,filter_word,model):\n",
        "    new = []\n",
        "    for word in pos:\n",
        "        if word[0] in filter_word:\n",
        "            new.append(word[0])\n",
        "        elif word[0] not in model:\n",
        "            new.append(word[0])\n",
        "        elif word[1] == 'VB' or word[1] == 'NN':\n",
        "                word_similar = model.wv.most_similar(word[0])[0][0]\n",
        "                new.append(word_similar)\n",
        "        else :\n",
        "            new.append(word[0])\n",
        "    return new"
      ],
      "metadata": {
        "id": "oUKEXeNznbo5"
      },
      "execution_count": null,
      "outputs": []
    },
    {
      "cell_type": "code",
      "source": [
        "def make_document(text):\n",
        "    document = ' '.join(text)\n",
        "    return document"
      ],
      "metadata": {
        "id": "Om8Rzl97neBV"
      },
      "execution_count": null,
      "outputs": []
    },
    {
      "cell_type": "code",
      "source": [
        "import pycrfsuite\n",
        "ct = CRFTagger()\n",
        "ct.set_model_file('all_indo_man_tag_corpus_model.crf.tagger')\n",
        "\n",
        "def obfuscation(data):\n",
        "    filter_word = ['senin','selasa','rabu','kamis','jumat','sabtu','minggu','januari','februari',\n",
        "              'maret','april','mei','juni','juli','agustus','september','oktober','november','desember',\n",
        "              'pagi','siang','sore','petang','malam','jam','menit','detik','hari''Senin','Selasa','Rabu',\n",
        "              'Kamis','Jumat','Sabtu','Minggu','Januari','Februari','Maret','April','Mei','Juni','Juli',\n",
        "              'Agustus','September','Oktober','November','Desember']\n",
        "    new = []\n",
        "    for i in tqdm(data):\n",
        "        word = tokenize(i)\n",
        "        pos = pos_tag(word,ct)\n",
        "        document = replace(pos,filter_word,model)\n",
        "        new_document = make_document(document)\n",
        "        new.append(new_document)\n",
        "    return new\n",
        "\n",
        "new = obfuscation(content)\n",
        "#indices = [i for i in range(len(new))]\n",
        "#df_new = pd.DataFrame({'index': indices, 'content': new})\n",
        "#df_new.to_csv('output.csv', index = False)"
      ],
      "metadata": {
        "id": "spkqvjU3ngCn",
        "colab": {
          "base_uri": "https://localhost:8080/",
          "height": 357
        },
        "outputId": "f8677eea-67f8-4574-bbe6-4a76add4e737",
        "collapsed": true
      },
      "execution_count": null,
      "outputs": [
        {
          "output_type": "error",
          "ename": "NameError",
          "evalue": "ignored",
          "traceback": [
            "\u001b[0;31m---------------------------------------------------------------------------\u001b[0m",
            "\u001b[0;31mNameError\u001b[0m                                 Traceback (most recent call last)",
            "\u001b[0;32m<ipython-input-68-01d884de4247>\u001b[0m in \u001b[0;36m<module>\u001b[0;34m()\u001b[0m\n\u001b[1;32m      1\u001b[0m \u001b[0;32mimport\u001b[0m \u001b[0mpycrfsuite\u001b[0m\u001b[0;34m\u001b[0m\u001b[0;34m\u001b[0m\u001b[0m\n\u001b[0;32m----> 2\u001b[0;31m \u001b[0mct\u001b[0m \u001b[0;34m=\u001b[0m \u001b[0mCRFTagger\u001b[0m\u001b[0;34m(\u001b[0m\u001b[0;34m)\u001b[0m\u001b[0;34m\u001b[0m\u001b[0;34m\u001b[0m\u001b[0m\n\u001b[0m\u001b[1;32m      3\u001b[0m \u001b[0mct\u001b[0m\u001b[0;34m.\u001b[0m\u001b[0mset_model_file\u001b[0m\u001b[0;34m(\u001b[0m\u001b[0;34m'all_indo_man_tag_corpus_model.crf.tagger'\u001b[0m\u001b[0;34m)\u001b[0m\u001b[0;34m\u001b[0m\u001b[0;34m\u001b[0m\u001b[0m\n\u001b[1;32m      4\u001b[0m \u001b[0;34m\u001b[0m\u001b[0m\n\u001b[1;32m      5\u001b[0m \u001b[0;32mdef\u001b[0m \u001b[0mobfuscation\u001b[0m\u001b[0;34m(\u001b[0m\u001b[0mdata\u001b[0m\u001b[0;34m)\u001b[0m\u001b[0;34m:\u001b[0m\u001b[0;34m\u001b[0m\u001b[0;34m\u001b[0m\u001b[0m\n",
            "\u001b[0;32m/usr/local/lib/python3.7/dist-packages/nltk/tag/crf.py\u001b[0m in \u001b[0;36m__init__\u001b[0;34m(self, feature_func, verbose, training_opt)\u001b[0m\n\u001b[1;32m     81\u001b[0m \u001b[0;34m\u001b[0m\u001b[0m\n\u001b[1;32m     82\u001b[0m         \u001b[0mself\u001b[0m\u001b[0;34m.\u001b[0m\u001b[0m_model_file\u001b[0m \u001b[0;34m=\u001b[0m \u001b[0;34m''\u001b[0m\u001b[0;34m\u001b[0m\u001b[0;34m\u001b[0m\u001b[0m\n\u001b[0;32m---> 83\u001b[0;31m         \u001b[0mself\u001b[0m\u001b[0;34m.\u001b[0m\u001b[0m_tagger\u001b[0m \u001b[0;34m=\u001b[0m \u001b[0mpycrfsuite\u001b[0m\u001b[0;34m.\u001b[0m\u001b[0mTagger\u001b[0m\u001b[0;34m(\u001b[0m\u001b[0;34m)\u001b[0m\u001b[0;34m\u001b[0m\u001b[0;34m\u001b[0m\u001b[0m\n\u001b[0m\u001b[1;32m     84\u001b[0m \u001b[0;34m\u001b[0m\u001b[0m\n\u001b[1;32m     85\u001b[0m         \u001b[0;32mif\u001b[0m \u001b[0mfeature_func\u001b[0m \u001b[0;32mis\u001b[0m \u001b[0;32mNone\u001b[0m\u001b[0;34m:\u001b[0m\u001b[0;34m\u001b[0m\u001b[0;34m\u001b[0m\u001b[0m\n",
            "\u001b[0;31mNameError\u001b[0m: name 'pycrfsuite' is not defined"
          ]
        }
      ]
    },
    {
      "cell_type": "code",
      "source": [
        "new = obfuscation(content)\n",
        "indices = [i for i in range(len(new))]\n",
        "df_new = pd.DataFrame({'index': indices, 'content': new})\n",
        "df_new.to_csv('output.csv', index = False)"
      ],
      "metadata": {
        "id": "mRx5tz-ksvNk"
      },
      "execution_count": null,
      "outputs": []
    }
  ]
}