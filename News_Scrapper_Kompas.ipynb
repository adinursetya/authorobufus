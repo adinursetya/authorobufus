{
  "nbformat": 4,
  "nbformat_minor": 0,
  "metadata": {
    "colab": {
      "provenance": [],
      "authorship_tag": "ABX9TyP0qQtb57Eq2c5FUnBRvvxS",
      "include_colab_link": true
    },
    "kernelspec": {
      "name": "python3",
      "display_name": "Python 3"
    }
  },
  "cells": [
    {
      "cell_type": "markdown",
      "metadata": {
        "id": "view-in-github",
        "colab_type": "text"
      },
      "source": [
        "<a href=\"https://colab.research.google.com/github/adinursetya/authorobufus/blob/main/News_Scrapper_Kompas.ipynb\" target=\"_parent\"><img src=\"https://colab.research.google.com/assets/colab-badge.svg\" alt=\"Open In Colab\"/></a>"
      ]
    },
    {
      "cell_type": "code",
      "metadata": {
        "id": "r9UEhROdUL80"
      },
      "source": [
        "import requests\n",
        "import pandas as pd\n",
        "import numpy as np\n",
        "from bs4 import BeautifulSoup\n"
      ],
      "execution_count": null,
      "outputs": []
    },
    {
      "cell_type": "code",
      "metadata": {
        "id": "Qd7PMkgGUYc7"
      },
      "source": [
        "\n",
        "links = []\n",
        "titles = []\n",
        "paragraphs = []\n",
        "writers = []\n",
        "contents = []\n",
        "dates = []\n"
      ],
      "execution_count": null,
      "outputs": []
    },
    {
      "cell_type": "code",
      "metadata": {
        "id": "o_viRk-GUaTO"
      },
      "source": [
        "start_page = 1\n",
        "end_page = 200"
      ],
      "execution_count": null,
      "outputs": []
    },
    {
      "cell_type": "code",
      "metadata": {
        "id": "Vh6QPBmSUb9L"
      },
      "source": [
        "for i in np.arange(start_page, end_page + 1):\n",
        "    r1 = requests.get('{}/{}'.format('https://indeks.kompas.com/profile/1832/Haryanti.Puspa.Sari', i))\n",
        "    coverpage = r1.content\n",
        "    soup1 = BeautifulSoup(coverpage, 'html5lib')\n",
        "    articles = soup1.find_all('div', class_='article__list')\n",
        "\n",
        "    for news in articles:\n",
        "        category = news.find('div', class_='article__subtitle article__subtitle--inline').get_text()\n",
        "        date = news.find('div', class_='article__date').get_text()\n",
        "        if category == 'NEWS':\n",
        "            title_link = news.find('a', class_='article__link')\n",
        "            link = title_link['href']\n",
        "            title = title_link.get_text()\n",
        "\n",
        "            article = requests.get('{}?page=all'.format(link))\n",
        "            article_content = article.content\n",
        "            soup_article = BeautifulSoup(article_content, 'html5lib')\n",
        "\n",
        "            writer = soup_article.find('div', class_='read__credit__item').find('a').get_text()\n",
        "            content = soup_article.find('div', class_='read__content').find_all('p')\n",
        "\n",
        "            content = [c.get_text() for c in content if len(c.get_text()) > 0 and \"Baca juga:\" not in c.get_text()]\n",
        "            paragraph = len(content)\n",
        "            content = \" \".join(content)\n",
        "\n",
        "            links.append(link)\n",
        "            titles.append(title)\n",
        "            paragraphs.append(paragraph)\n",
        "            writers.append(writer)\n",
        "            contents.append(content)\n",
        "            dates.append(date)"
      ],
      "execution_count": null,
      "outputs": []
    },
    {
      "cell_type": "code",
      "metadata": {
        "id": "GEZJnnobUe_f"
      },
      "source": [
        "data = pd.DataFrame({'Reporter': writers, 'Headline': titles, 'Content': contents, 'Num. of Paragraphs': paragraphs, 'Date Created': dates, 'Link': links})\n",
        "data.to_excel('Haryanti Puspa Sari.xlsx', index=False)"
      ],
      "execution_count": null,
      "outputs": []
    }
  ]
}