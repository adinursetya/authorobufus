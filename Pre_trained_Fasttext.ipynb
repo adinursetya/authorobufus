{
  "nbformat": 4,
  "nbformat_minor": 0,
  "metadata": {
    "colab": {
      "provenance": [],
      "mount_file_id": "1wrOcwkWK5PtkSy0wuvCJDdb6YRojHaYX",
      "authorship_tag": "ABX9TyPRRK3JB3RloLdb7I74Rj5Z",
      "include_colab_link": true
    },
    "kernelspec": {
      "display_name": "Python 3",
      "name": "python3"
    },
    "language_info": {
      "name": "python"
    }
  },
  "cells": [
    {
      "cell_type": "markdown",
      "metadata": {
        "id": "view-in-github",
        "colab_type": "text"
      },
      "source": [
        "<a href=\"https://colab.research.google.com/github/adinursetya/authorobufus/blob/main/Pre_trained_Fasttext.ipynb\" target=\"_parent\"><img src=\"https://colab.research.google.com/assets/colab-badge.svg\" alt=\"Open In Colab\"/></a>"
      ]
    },
    {
      "cell_type": "code",
      "metadata": {
        "id": "t-YJuxM70rDo"
      },
      "source": [
        "from gensim.corpora import WikiCorpus\n",
        "\n",
        "dataset = WikiCorpus(\"/content/drive/MyDrive/Colab Notebooks/idwiki-07082019-pages-articles.xml.bz2\", lemmatize=False, dictionary={})"
      ],
      "execution_count": null,
      "outputs": []
    },
    {
      "cell_type": "code",
      "metadata": {
        "id": "GWYn0JVq08IS"
      },
      "source": [
        "with open(\"wiki-id-formatted.txt\", 'w', encoding=\"utf8\") as output:\n",
        "     counter = 0\n",
        "     for text in dataset.get_texts():\n",
        "         output.write(' '.join(text)+\"\\n\")\n",
        "         counter = counter + 1\n",
        "         if counter > 10000: # Hanya mengambil 10,000 artikel pertama\n",
        "             break"
      ],
      "execution_count": null,
      "outputs": []
    },
    {
      "cell_type": "code",
      "metadata": {
        "id": "WD7w3j5k086p"
      },
      "source": [
        "import fasttext\n",
        "\n",
        "model = fasttext.train_unsupervised('wiki-id-formatted.txt', model='skipgram', dim=100)"
      ],
      "execution_count": null,
      "outputs": []
    },
    {
      "cell_type": "code",
      "metadata": {
        "id": "uS0WKsMZ1FNV"
      },
      "source": [
        "model.save_model(\"trained_model_100_id.bin\")"
      ],
      "execution_count": null,
      "outputs": []
    },
    {
      "cell_type": "code",
      "metadata": {
        "id": "KFPajy-AFI0Q"
      },
      "source": [
        "import numpy as np\n",
        "import nltk\n",
        "import pandas as pd\n",
        "import gensim\n",
        "from nltk.tokenize import word_tokenize\n",
        "from gensim.models import FastText\n",
        "from nltk.tag import CRFTagger\n",
        "from tqdm import tqdm"
      ],
      "execution_count": null,
      "outputs": []
    },
    {
      "cell_type": "code",
      "metadata": {
        "id": "2ma0RYv11I1n"
      },
      "source": [
        "model = FastText.load_fasttext_format('trained_model_100_id.bin')"
      ],
      "execution_count": null,
      "outputs": []
    },
    {
      "cell_type": "code",
      "metadata": {
        "id": "A0MlqMWFMBx7",
        "colab": {
          "base_uri": "https://localhost:8080/",
          "height": 419
        },
        "outputId": "1bfcca27-61b9-48df-82df-e7d27ea9985e",
        "collapsed": true
      },
      "source": [
        "df = pd.read_csv('/content/drive/MyDrive/Colab Notebooks/model/data.csv')\n",
        "df"
      ],
      "execution_count": null,
      "outputs": [
        {
          "output_type": "execute_result",
          "data": {
            "text/html": [
              "<div>\n",
              "<style scoped>\n",
              "    .dataframe tbody tr th:only-of-type {\n",
              "        vertical-align: middle;\n",
              "    }\n",
              "\n",
              "    .dataframe tbody tr th {\n",
              "        vertical-align: top;\n",
              "    }\n",
              "\n",
              "    .dataframe thead th {\n",
              "        text-align: right;\n",
              "    }\n",
              "</style>\n",
              "<table border=\"1\" class=\"dataframe\">\n",
              "  <thead>\n",
              "    <tr style=\"text-align: right;\">\n",
              "      <th></th>\n",
              "      <th>id</th>\n",
              "      <th>author</th>\n",
              "      <th>content</th>\n",
              "    </tr>\n",
              "  </thead>\n",
              "  <tbody>\n",
              "    <tr>\n",
              "      <th>0</th>\n",
              "      <td>1</td>\n",
              "      <td>Deti Mega Purnamasari</td>\n",
              "      <td>Jumlah pasien  suspek  Covid-19 hingga Senin (...</td>\n",
              "    </tr>\n",
              "    <tr>\n",
              "      <th>1</th>\n",
              "      <td>2</td>\n",
              "      <td>Deti Mega Purnamasari</td>\n",
              "      <td>Wakil Presiden  Ma'ruf Amin meminta Dewan Syar...</td>\n",
              "    </tr>\n",
              "    <tr>\n",
              "      <th>2</th>\n",
              "      <td>3</td>\n",
              "      <td>Deti Mega Purnamasari</td>\n",
              "      <td>Data pemerintah menunjukkan sebanyak 39.285  s...</td>\n",
              "    </tr>\n",
              "    <tr>\n",
              "      <th>3</th>\n",
              "      <td>4</td>\n",
              "      <td>Deti Mega Purnamasari</td>\n",
              "      <td>Total pasien  meninggal dunia akibat  Covid-19...</td>\n",
              "    </tr>\n",
              "    <tr>\n",
              "      <th>4</th>\n",
              "      <td>5</td>\n",
              "      <td>Deti Mega Purnamasari</td>\n",
              "      <td>Sudah lebih dari tujuh bulan pandemi  Covid-19...</td>\n",
              "    </tr>\n",
              "    <tr>\n",
              "      <th>...</th>\n",
              "      <td>...</td>\n",
              "      <td>...</td>\n",
              "      <td>...</td>\n",
              "    </tr>\n",
              "    <tr>\n",
              "      <th>5995</th>\n",
              "      <td>5996</td>\n",
              "      <td>Ihsanuddin</td>\n",
              "      <td>Juru bicara pemerintah untuk penanganan virus ...</td>\n",
              "    </tr>\n",
              "    <tr>\n",
              "      <th>5996</th>\n",
              "      <td>5997</td>\n",
              "      <td>Ihsanuddin</td>\n",
              "      <td>Pasien  positif corona Covid-19 yang meninggal...</td>\n",
              "    </tr>\n",
              "    <tr>\n",
              "      <th>5997</th>\n",
              "      <td>5998</td>\n",
              "      <td>Ihsanuddin</td>\n",
              "      <td>Jumlah pasien positif  corona  Covid-19 yang d...</td>\n",
              "    </tr>\n",
              "    <tr>\n",
              "      <th>5998</th>\n",
              "      <td>5999</td>\n",
              "      <td>Ihsanuddin</td>\n",
              "      <td>Juru bicara penanganan virus  Corona  Achmad Y...</td>\n",
              "    </tr>\n",
              "    <tr>\n",
              "      <th>5999</th>\n",
              "      <td>6000</td>\n",
              "      <td>Ihsanuddin</td>\n",
              "      <td>Kepala  PPATK Kiagus Ahmad Badarudin meninggal...</td>\n",
              "    </tr>\n",
              "  </tbody>\n",
              "</table>\n",
              "<p>6000 rows × 3 columns</p>\n",
              "</div>"
            ],
            "text/plain": [
              "        id  ...                                            content\n",
              "0        1  ...  Jumlah pasien  suspek  Covid-19 hingga Senin (...\n",
              "1        2  ...  Wakil Presiden  Ma'ruf Amin meminta Dewan Syar...\n",
              "2        3  ...  Data pemerintah menunjukkan sebanyak 39.285  s...\n",
              "3        4  ...  Total pasien  meninggal dunia akibat  Covid-19...\n",
              "4        5  ...  Sudah lebih dari tujuh bulan pandemi  Covid-19...\n",
              "...    ...  ...                                                ...\n",
              "5995  5996  ...  Juru bicara pemerintah untuk penanganan virus ...\n",
              "5996  5997  ...  Pasien  positif corona Covid-19 yang meninggal...\n",
              "5997  5998  ...  Jumlah pasien positif  corona  Covid-19 yang d...\n",
              "5998  5999  ...  Juru bicara penanganan virus  Corona  Achmad Y...\n",
              "5999  6000  ...  Kepala  PPATK Kiagus Ahmad Badarudin meninggal...\n",
              "\n",
              "[6000 rows x 3 columns]"
            ]
          },
          "metadata": {},
          "execution_count": 6
        }
      ]
    },
    {
      "cell_type": "code",
      "metadata": {
        "id": "ePIrWhgjUGNi"
      },
      "source": [
        "real_article = df['content']\n",
        "obfus_article = df1['obfsukasi']"
      ],
      "execution_count": null,
      "outputs": []
    },
    {
      "cell_type": "code",
      "metadata": {
        "colab": {
          "base_uri": "https://localhost:8080/"
        },
        "id": "n7V3oLYiUVUV",
        "outputId": "1947f449-f1e8-46a7-f5af-fb7aabf4e443"
      },
      "source": [
        "get_article_similarity(real_article, obfus_article)"
      ],
      "execution_count": null,
      "outputs": [
        {
          "output_type": "execute_result",
          "data": {
            "text/plain": [
              "0.991193581521511"
            ]
          },
          "metadata": {},
          "execution_count": 17
        }
      ]
    },
    {
      "cell_type": "code",
      "metadata": {
        "id": "LpUYOlQjHQpb"
      },
      "source": [
        "def clean(text):\n",
        "    # Lowering letters\n",
        "    text = text.lower()\n",
        "    # Joining words\n",
        "    text = \" \".join(text.splitlines())\n",
        "    return text"
      ],
      "execution_count": null,
      "outputs": []
    },
    {
      "cell_type": "code",
      "metadata": {
        "id": "Y37E6pFiHTkK"
      },
      "source": [
        "def tokenize(text):\n",
        "    word = word_tokenize(text)\n",
        "    return word"
      ],
      "execution_count": null,
      "outputs": []
    },
    {
      "cell_type": "code",
      "metadata": {
        "id": "qBKUp9oBHWMs"
      },
      "source": [
        "def pos_tag(text,ct):\n",
        "    pos = ct.tag(text)\n",
        "    return pos"
      ],
      "execution_count": null,
      "outputs": []
    },
    {
      "cell_type": "code",
      "metadata": {
        "id": "uK-iG3TMHYCL"
      },
      "source": [
        "def replace(pos,filter_word,model):\n",
        "    new = []\n",
        "    for word in pos:\n",
        "        if word[0] in filter_word:\n",
        "            new.append(word[0])\n",
        "        elif word[0] not in model:\n",
        "            new.append(word[0])\n",
        "        elif word[1] == 'VB' or word[1] == 'NN':\n",
        "                word_similar = model.wv.most_similar(word[0])[0][0]\n",
        "                new.append(word_similar)\n",
        "        else :\n",
        "            new.append(word[0])\n",
        "    return new"
      ],
      "execution_count": null,
      "outputs": []
    },
    {
      "cell_type": "code",
      "metadata": {
        "id": "JUTrJqCuHZv0"
      },
      "source": [
        "def make_document(text):\n",
        "    document = ' '.join(text)\n",
        "    return document"
      ],
      "execution_count": null,
      "outputs": []
    },
    {
      "cell_type": "code",
      "metadata": {
        "id": "khfN_R5nHbS1"
      },
      "source": [
        "def obfuskasi(data):\n",
        "    ct = CRFTagger()\n",
        "    ct.set_model_file('/content/drive/MyDrive/Colab Notebooks/model/all_indo_man_tag_corpus_model.crf.tagger')\n",
        "    model = FastText.load_fasttext_format('trained_model_100_id.bin')\n",
        "\n",
        "    filter_word = ['senin','selasa','rabu','kamis','jumat','sabtu','minggu','januari','februari',\n",
        "              'maret','april','mei','juni','juli','agustus','september','oktober','november','desember',\n",
        "              'pagi','siang','sore','petang','malam','jam','menit','detik',]\n",
        "    new = []\n",
        "    for i in tqdm(data):\n",
        "        text = clean(i)\n",
        "        word = tokenize(text)\n",
        "        word = pos_tag(word,ct)\n",
        "        document = replace(word,filter_word,model)\n",
        "        new_document = make_document(document)\n",
        "        new.append(new_document)\n",
        "    return new"
      ],
      "execution_count": null,
      "outputs": []
    },
    {
      "cell_type": "code",
      "metadata": {
        "id": "-gbJD7YSHhW1"
      },
      "source": [
        "df = pd.read_csv('/content/drive/MyDrive/Colab Notebooks/model/data.csv')\n",
        "df"
      ],
      "execution_count": null,
      "outputs": []
    },
    {
      "cell_type": "code",
      "metadata": {
        "id": "ZrNqCogMHmFO"
      },
      "source": [
        "data = df['content'].values\n",
        "data"
      ],
      "execution_count": null,
      "outputs": []
    },
    {
      "cell_type": "code",
      "metadata": {
        "id": "VxJeDEWaHoRN"
      },
      "source": [
        "new = obfuskasi(data)\n",
        "new"
      ],
      "execution_count": null,
      "outputs": []
    },
    {
      "cell_type": "code",
      "metadata": {
        "id": "_gS-cjiYHp-r"
      },
      "source": [
        "Id = [i for i in range(len(new))]"
      ],
      "execution_count": null,
      "outputs": []
    },
    {
      "cell_type": "code",
      "metadata": {
        "id": "or4bt6APTsKG"
      },
      "source": [
        "df1 = pd.read_csv('/content/drive/MyDrive/Colab Notebooks/Data/output3.csv')\n",
        "df1"
      ],
      "execution_count": null,
      "outputs": []
    },
    {
      "cell_type": "code",
      "metadata": {
        "id": "K2R9ObJUHste"
      },
      "source": [
        "df_new = pd.DataFrame(Id,columns=['id'])\n",
        "df_new['author'] = df['author']\n",
        "df_new['obfsukasi'] = new\n",
        "df_new.to_csv('output3.csv', index = False)"
      ],
      "execution_count": null,
      "outputs": []
    },
    {
      "cell_type": "code",
      "metadata": {
        "id": "uEEGuFJ7LuJ7"
      },
      "source": [
        "def get_article_similarity(real_article, obfus_article):\n",
        "    word_similarities = []\n",
        "\n",
        "    for i in range(len(real_article)):\n",
        "        if len(real_article[i]) > 1 and len(obfus_article[i]) > 1:\n",
        "            word1 = real_article[i].lower()\n",
        "            word2 = obfus_article[i].lower()\n",
        "            similarity = 1\n",
        "\n",
        "            if word1 != word2:\n",
        "                    similarity = model.wv.similarity(word1, word2)\n",
        "\n",
        "            word_similarities.append(similarity)\n",
        "\n",
        "    average_similarity = sum(word_similarities) / len(word_similarities)\n",
        "\n",
        "    return average_similarity"
      ],
      "execution_count": null,
      "outputs": []
    }
  ]
}