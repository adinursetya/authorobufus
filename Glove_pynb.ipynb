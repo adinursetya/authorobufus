{
  "nbformat": 4,
  "nbformat_minor": 0,
  "metadata": {
    "colab": {
      "provenance": [],
      "mount_file_id": "1jG7p5oe-3qmtydd7yHFk2rteJBXflx1v",
      "authorship_tag": "ABX9TyMvh9r5DnQqNHoMHhrfJ7vj",
      "include_colab_link": true
    },
    "kernelspec": {
      "name": "python3",
      "display_name": "Python 3"
    },
    "language_info": {
      "name": "python"
    }
  },
  "cells": [
    {
      "cell_type": "markdown",
      "metadata": {
        "id": "view-in-github",
        "colab_type": "text"
      },
      "source": [
        "<a href=\"https://colab.research.google.com/github/adinursetya/authorobufus/blob/main/Glove_pynb.ipynb\" target=\"_parent\"><img src=\"https://colab.research.google.com/assets/colab-badge.svg\" alt=\"Open In Colab\"/></a>"
      ]
    },
    {
      "cell_type": "code",
      "metadata": {
        "id": "4lQ9QKHf6utZ"
      },
      "source": [
        "from gensim.test.utils import datapath, get_tmpfile\n",
        "from gensim.models import KeyedVectors\n",
        "from gensim.scripts.glove2word2vec import glove2word2vec\n",
        "\n",
        "\n",
        "tmp_file = get_tmpfile(\"w2v_format.txt\")\n",
        "\n",
        "glove2word2vec(\"/content/drive/MyDrive/Colab Notebooks/vectors.txt\", tmp_file)\n",
        "\n",
        "model = KeyedVectors.load_word2vec_format(tmp_file, binary=False)"
      ],
      "execution_count": null,
      "outputs": []
    }
  ]
}